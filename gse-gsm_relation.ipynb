{
 "cells": [
  {
   "cell_type": "code",
   "execution_count": 1,
   "metadata": {},
   "outputs": [
    {
     "name": "stdout",
     "output_type": "stream",
     "text": [
      "Collecting GEOparse\n",
      "  Using cached GEOparse-2.0.4-py3-none-any.whl (29 kB)\n",
      "Collecting numpy>=1.7\n",
      "  Using cached numpy-2.2.4-cp311-cp311-win_amd64.whl (12.9 MB)\n",
      "Collecting pandas>=0.17\n",
      "  Using cached pandas-2.2.3-cp311-cp311-win_amd64.whl (11.6 MB)\n",
      "Collecting requests>=2.21.0\n",
      "  Using cached requests-2.32.3-py3-none-any.whl (64 kB)\n",
      "Collecting tqdm>=4.31.1\n",
      "  Using cached tqdm-4.67.1-py3-none-any.whl (78 kB)\n",
      "Requirement already satisfied: python-dateutil>=2.8.2 in c:\\users\\hp\\gse-gsm_relation\\mvenv\\lib\\site-packages (from pandas>=0.17->GEOparse) (2.9.0.post0)\n",
      "Collecting pytz>=2020.1\n",
      "  Using cached pytz-2025.1-py2.py3-none-any.whl (507 kB)\n",
      "Collecting tzdata>=2022.7\n",
      "  Downloading tzdata-2025.2-py2.py3-none-any.whl (347 kB)\n",
      "     ------------------------------------ 347.8/347.8 kB 900.3 kB/s eta 0:00:00\n",
      "Collecting charset-normalizer<4,>=2\n",
      "  Using cached charset_normalizer-3.4.1-cp311-cp311-win_amd64.whl (102 kB)\n",
      "Collecting idna<4,>=2.5\n",
      "  Using cached idna-3.10-py3-none-any.whl (70 kB)\n",
      "Collecting urllib3<3,>=1.21.1\n",
      "  Using cached urllib3-2.3.0-py3-none-any.whl (128 kB)\n",
      "Collecting certifi>=2017.4.17\n",
      "  Using cached certifi-2025.1.31-py3-none-any.whl (166 kB)\n",
      "Requirement already satisfied: colorama in c:\\users\\hp\\gse-gsm_relation\\mvenv\\lib\\site-packages (from tqdm>=4.31.1->GEOparse) (0.4.6)\n",
      "Requirement already satisfied: six>=1.5 in c:\\users\\hp\\gse-gsm_relation\\mvenv\\lib\\site-packages (from python-dateutil>=2.8.2->pandas>=0.17->GEOparse) (1.17.0)\n",
      "Installing collected packages: pytz, urllib3, tzdata, tqdm, numpy, idna, charset-normalizer, certifi, requests, pandas, GEOparse\n",
      "Successfully installed GEOparse-2.0.4 certifi-2025.1.31 charset-normalizer-3.4.1 idna-3.10 numpy-2.2.4 pandas-2.2.3 pytz-2025.1 requests-2.32.3 tqdm-4.67.1 tzdata-2025.2 urllib3-2.3.0\n",
      "Note: you may need to restart the kernel to use updated packages.\n"
     ]
    },
    {
     "name": "stderr",
     "output_type": "stream",
     "text": [
      "\n",
      "[notice] A new release of pip available: 22.3.1 -> 25.0.1\n",
      "[notice] To update, run: python.exe -m pip install --upgrade pip\n"
     ]
    }
   ],
   "source": [
    "pip install GEOparse\n"
   ]
  },
  {
   "cell_type": "code",
   "execution_count": 1,
   "metadata": {},
   "outputs": [],
   "source": [
    "import GEOparse"
   ]
  },
  {
   "cell_type": "code",
   "execution_count": 7,
   "metadata": {},
   "outputs": [
    {
     "name": "stderr",
     "output_type": "stream",
     "text": [
      "24-Mar-2025 10:49:24 INFO GEOparse - Parsing GSE1563_family.soft.gz: \n",
      "24-Mar-2025 10:49:24 DEBUG GEOparse - DATABASE: GeoMiame\n",
      "24-Mar-2025 10:49:24 DEBUG GEOparse - SERIES: GSE1563\n",
      "24-Mar-2025 10:49:24 DEBUG GEOparse - PLATFORM: GPL8300\n",
      "24-Mar-2025 10:49:26 DEBUG GEOparse - SAMPLE: GSM26805\n",
      "24-Mar-2025 10:49:26 DEBUG GEOparse - SAMPLE: GSM26806\n",
      "24-Mar-2025 10:49:26 DEBUG GEOparse - SAMPLE: GSM26807\n",
      "24-Mar-2025 10:49:26 DEBUG GEOparse - SAMPLE: GSM26808\n",
      "24-Mar-2025 10:49:26 DEBUG GEOparse - SAMPLE: GSM26809\n",
      "24-Mar-2025 10:49:26 DEBUG GEOparse - SAMPLE: GSM26810\n",
      "24-Mar-2025 10:49:27 DEBUG GEOparse - SAMPLE: GSM26811\n",
      "24-Mar-2025 10:49:27 DEBUG GEOparse - SAMPLE: GSM26812\n",
      "24-Mar-2025 10:49:27 DEBUG GEOparse - SAMPLE: GSM26813\n",
      "24-Mar-2025 10:49:27 DEBUG GEOparse - SAMPLE: GSM26814\n",
      "24-Mar-2025 10:49:27 DEBUG GEOparse - SAMPLE: GSM26815\n",
      "24-Mar-2025 10:49:27 DEBUG GEOparse - SAMPLE: GSM26816\n",
      "24-Mar-2025 10:49:27 DEBUG GEOparse - SAMPLE: GSM26817\n",
      "24-Mar-2025 10:49:27 DEBUG GEOparse - SAMPLE: GSM26818\n",
      "24-Mar-2025 10:49:27 DEBUG GEOparse - SAMPLE: GSM26819\n",
      "24-Mar-2025 10:49:27 DEBUG GEOparse - SAMPLE: GSM26820\n",
      "24-Mar-2025 10:49:28 DEBUG GEOparse - SAMPLE: GSM26821\n",
      "24-Mar-2025 10:49:28 DEBUG GEOparse - SAMPLE: GSM26822\n",
      "24-Mar-2025 10:49:28 DEBUG GEOparse - SAMPLE: GSM26823\n",
      "24-Mar-2025 10:49:28 DEBUG GEOparse - SAMPLE: GSM26824\n",
      "24-Mar-2025 10:49:28 DEBUG GEOparse - SAMPLE: GSM26825\n",
      "24-Mar-2025 10:49:28 DEBUG GEOparse - SAMPLE: GSM26826\n",
      "24-Mar-2025 10:49:28 DEBUG GEOparse - SAMPLE: GSM26827\n",
      "24-Mar-2025 10:49:28 DEBUG GEOparse - SAMPLE: GSM26828\n",
      "24-Mar-2025 10:49:28 DEBUG GEOparse - SAMPLE: GSM26829\n",
      "24-Mar-2025 10:49:28 DEBUG GEOparse - SAMPLE: GSM26830\n",
      "24-Mar-2025 10:49:28 DEBUG GEOparse - SAMPLE: GSM26831\n",
      "24-Mar-2025 10:49:29 DEBUG GEOparse - SAMPLE: GSM26832\n",
      "24-Mar-2025 10:49:29 DEBUG GEOparse - SAMPLE: GSM26833\n",
      "24-Mar-2025 10:49:29 DEBUG GEOparse - SAMPLE: GSM26834\n",
      "24-Mar-2025 10:49:29 DEBUG GEOparse - SAMPLE: GSM26835\n",
      "24-Mar-2025 10:49:29 DEBUG GEOparse - SAMPLE: GSM26836\n",
      "24-Mar-2025 10:49:29 DEBUG GEOparse - SAMPLE: GSM26837\n",
      "24-Mar-2025 10:49:29 DEBUG GEOparse - SAMPLE: GSM26838\n",
      "24-Mar-2025 10:49:29 DEBUG GEOparse - SAMPLE: GSM26839\n",
      "24-Mar-2025 10:49:29 DEBUG GEOparse - SAMPLE: GSM26840\n",
      "24-Mar-2025 10:49:29 DEBUG GEOparse - SAMPLE: GSM26841\n",
      "24-Mar-2025 10:49:29 DEBUG GEOparse - SAMPLE: GSM26842\n",
      "24-Mar-2025 10:49:30 DEBUG GEOparse - SAMPLE: GSM26843\n",
      "24-Mar-2025 10:49:30 DEBUG GEOparse - SAMPLE: GSM26844\n",
      "24-Mar-2025 10:49:30 DEBUG GEOparse - SAMPLE: GSM26845\n",
      "24-Mar-2025 10:49:30 DEBUG GEOparse - SAMPLE: GSM26846\n",
      "24-Mar-2025 10:49:30 DEBUG GEOparse - SAMPLE: GSM26847\n",
      "24-Mar-2025 10:49:31 DEBUG GEOparse - SAMPLE: GSM26848\n",
      "24-Mar-2025 10:49:31 DEBUG GEOparse - SAMPLE: GSM26849\n",
      "24-Mar-2025 10:49:31 DEBUG GEOparse - SAMPLE: GSM26850\n",
      "24-Mar-2025 10:49:31 DEBUG GEOparse - SAMPLE: GSM26851\n",
      "24-Mar-2025 10:49:31 DEBUG GEOparse - SAMPLE: GSM26852\n",
      "24-Mar-2025 10:49:32 DEBUG GEOparse - SAMPLE: GSM26853\n",
      "24-Mar-2025 10:49:32 DEBUG GEOparse - SAMPLE: GSM26854\n",
      "24-Mar-2025 10:49:32 DEBUG GEOparse - SAMPLE: GSM26855\n",
      "24-Mar-2025 10:49:32 DEBUG GEOparse - SAMPLE: GSM26856\n",
      "24-Mar-2025 10:49:32 DEBUG GEOparse - SAMPLE: GSM26857\n",
      "24-Mar-2025 10:49:32 DEBUG GEOparse - SAMPLE: GSM26858\n",
      "24-Mar-2025 10:49:32 DEBUG GEOparse - SAMPLE: GSM26859\n",
      "24-Mar-2025 10:49:33 DEBUG GEOparse - SAMPLE: GSM26860\n",
      "24-Mar-2025 10:49:33 DEBUG GEOparse - SAMPLE: GSM26861\n",
      "24-Mar-2025 10:49:33 DEBUG GEOparse - SAMPLE: GSM26862\n",
      "24-Mar-2025 10:49:33 DEBUG GEOparse - SAMPLE: GSM26863\n",
      "24-Mar-2025 10:49:33 DEBUG GEOparse - SAMPLE: GSM26864\n",
      "24-Mar-2025 10:49:33 DEBUG GEOparse - SAMPLE: GSM26865\n",
      "24-Mar-2025 10:49:33 DEBUG GEOparse - SAMPLE: GSM26866\n"
     ]
    }
   ],
   "source": [
    "gse = GEOparse.get_GEO(filepath=\"GSE1563_family.soft.gz\")"
   ]
  },
  {
   "cell_type": "code",
   "execution_count": 5,
   "metadata": {},
   "outputs": [
    {
     "name": "stderr",
     "output_type": "stream",
     "text": [
      "24-Mar-2025 23:50:53 DEBUG utils - Directory ./ already exists. Skipping.\n",
      "24-Mar-2025 23:50:53 INFO GEOparse - File already exist: using local version.\n",
      "24-Mar-2025 23:50:53 INFO GEOparse - Parsing ./GSE1563_family.soft.gz: \n",
      "24-Mar-2025 23:50:53 DEBUG GEOparse - DATABASE: GeoMiame\n",
      "24-Mar-2025 23:50:53 DEBUG GEOparse - SERIES: GSE1563\n",
      "24-Mar-2025 23:50:53 DEBUG GEOparse - PLATFORM: GPL8300\n",
      "24-Mar-2025 23:50:55 DEBUG GEOparse - SAMPLE: GSM26805\n",
      "24-Mar-2025 23:50:55 DEBUG GEOparse - SAMPLE: GSM26806\n",
      "24-Mar-2025 23:50:55 DEBUG GEOparse - SAMPLE: GSM26807\n",
      "24-Mar-2025 23:50:55 DEBUG GEOparse - SAMPLE: GSM26808\n",
      "24-Mar-2025 23:50:55 DEBUG GEOparse - SAMPLE: GSM26809\n",
      "24-Mar-2025 23:50:55 DEBUG GEOparse - SAMPLE: GSM26810\n",
      "24-Mar-2025 23:50:55 DEBUG GEOparse - SAMPLE: GSM26811\n",
      "24-Mar-2025 23:50:55 DEBUG GEOparse - SAMPLE: GSM26812\n",
      "24-Mar-2025 23:50:55 DEBUG GEOparse - SAMPLE: GSM26813\n",
      "24-Mar-2025 23:50:56 DEBUG GEOparse - SAMPLE: GSM26814\n",
      "24-Mar-2025 23:50:56 DEBUG GEOparse - SAMPLE: GSM26815\n",
      "24-Mar-2025 23:50:56 DEBUG GEOparse - SAMPLE: GSM26816\n",
      "24-Mar-2025 23:50:56 DEBUG GEOparse - SAMPLE: GSM26817\n",
      "24-Mar-2025 23:50:56 DEBUG GEOparse - SAMPLE: GSM26818\n",
      "24-Mar-2025 23:50:56 DEBUG GEOparse - SAMPLE: GSM26819\n",
      "24-Mar-2025 23:50:56 DEBUG GEOparse - SAMPLE: GSM26820\n",
      "24-Mar-2025 23:50:56 DEBUG GEOparse - SAMPLE: GSM26821\n",
      "24-Mar-2025 23:50:56 DEBUG GEOparse - SAMPLE: GSM26822\n",
      "24-Mar-2025 23:50:56 DEBUG GEOparse - SAMPLE: GSM26823\n",
      "24-Mar-2025 23:50:56 DEBUG GEOparse - SAMPLE: GSM26824\n",
      "24-Mar-2025 23:50:56 DEBUG GEOparse - SAMPLE: GSM26825\n",
      "24-Mar-2025 23:50:56 DEBUG GEOparse - SAMPLE: GSM26826\n",
      "24-Mar-2025 23:50:56 DEBUG GEOparse - SAMPLE: GSM26827\n",
      "24-Mar-2025 23:50:57 DEBUG GEOparse - SAMPLE: GSM26828\n",
      "24-Mar-2025 23:50:57 DEBUG GEOparse - SAMPLE: GSM26829\n",
      "24-Mar-2025 23:50:57 DEBUG GEOparse - SAMPLE: GSM26830\n",
      "24-Mar-2025 23:50:57 DEBUG GEOparse - SAMPLE: GSM26831\n",
      "24-Mar-2025 23:50:57 DEBUG GEOparse - SAMPLE: GSM26832\n",
      "24-Mar-2025 23:50:57 DEBUG GEOparse - SAMPLE: GSM26833\n",
      "24-Mar-2025 23:50:57 DEBUG GEOparse - SAMPLE: GSM26834\n",
      "24-Mar-2025 23:50:57 DEBUG GEOparse - SAMPLE: GSM26835\n",
      "24-Mar-2025 23:50:58 DEBUG GEOparse - SAMPLE: GSM26836\n",
      "24-Mar-2025 23:50:58 DEBUG GEOparse - SAMPLE: GSM26837\n",
      "24-Mar-2025 23:50:58 DEBUG GEOparse - SAMPLE: GSM26838\n",
      "24-Mar-2025 23:50:58 DEBUG GEOparse - SAMPLE: GSM26839\n",
      "24-Mar-2025 23:50:58 DEBUG GEOparse - SAMPLE: GSM26840\n",
      "24-Mar-2025 23:50:58 DEBUG GEOparse - SAMPLE: GSM26841\n",
      "24-Mar-2025 23:50:58 DEBUG GEOparse - SAMPLE: GSM26842\n",
      "24-Mar-2025 23:50:59 DEBUG GEOparse - SAMPLE: GSM26843\n",
      "24-Mar-2025 23:50:59 DEBUG GEOparse - SAMPLE: GSM26844\n",
      "24-Mar-2025 23:50:59 DEBUG GEOparse - SAMPLE: GSM26845\n",
      "24-Mar-2025 23:50:59 DEBUG GEOparse - SAMPLE: GSM26846\n",
      "24-Mar-2025 23:50:59 DEBUG GEOparse - SAMPLE: GSM26847\n",
      "24-Mar-2025 23:50:59 DEBUG GEOparse - SAMPLE: GSM26848\n",
      "24-Mar-2025 23:51:00 DEBUG GEOparse - SAMPLE: GSM26849\n",
      "24-Mar-2025 23:51:00 DEBUG GEOparse - SAMPLE: GSM26850\n",
      "24-Mar-2025 23:51:00 DEBUG GEOparse - SAMPLE: GSM26851\n",
      "24-Mar-2025 23:51:00 DEBUG GEOparse - SAMPLE: GSM26852\n",
      "24-Mar-2025 23:51:00 DEBUG GEOparse - SAMPLE: GSM26853\n",
      "24-Mar-2025 23:51:00 DEBUG GEOparse - SAMPLE: GSM26854\n",
      "24-Mar-2025 23:51:01 DEBUG GEOparse - SAMPLE: GSM26855\n",
      "24-Mar-2025 23:51:01 DEBUG GEOparse - SAMPLE: GSM26856\n",
      "24-Mar-2025 23:51:01 DEBUG GEOparse - SAMPLE: GSM26857\n",
      "24-Mar-2025 23:51:01 DEBUG GEOparse - SAMPLE: GSM26858\n",
      "24-Mar-2025 23:51:01 DEBUG GEOparse - SAMPLE: GSM26859\n",
      "24-Mar-2025 23:51:01 DEBUG GEOparse - SAMPLE: GSM26860\n",
      "24-Mar-2025 23:51:02 DEBUG GEOparse - SAMPLE: GSM26861\n",
      "24-Mar-2025 23:51:02 DEBUG GEOparse - SAMPLE: GSM26862\n",
      "24-Mar-2025 23:51:02 DEBUG GEOparse - SAMPLE: GSM26863\n",
      "24-Mar-2025 23:51:02 DEBUG GEOparse - SAMPLE: GSM26864\n",
      "24-Mar-2025 23:51:02 DEBUG GEOparse - SAMPLE: GSM26865\n",
      "24-Mar-2025 23:51:02 DEBUG GEOparse - SAMPLE: GSM26866\n"
     ]
    },
    {
     "name": "stdout",
     "output_type": "stream",
     "text": [
      "['Has(GSE1563, GSM26805)', 'Has(GSE1563, GSM26806)', 'Has(GSE1563, GSM26807)', 'Has(GSE1563, GSM26808)', 'Has(GSE1563, GSM26809)', 'Has(GSE1563, GSM26810)', 'Has(GSE1563, GSM26811)', 'Has(GSE1563, GSM26812)', 'Has(GSE1563, GSM26813)', 'Has(GSE1563, GSM26814)', 'Has(GSE1563, GSM26815)', 'Has(GSE1563, GSM26816)', 'Has(GSE1563, GSM26817)', 'Has(GSE1563, GSM26818)', 'Has(GSE1563, GSM26819)', 'Has(GSE1563, GSM26820)', 'Has(GSE1563, GSM26821)', 'Has(GSE1563, GSM26822)', 'Has(GSE1563, GSM26823)', 'Has(GSE1563, GSM26824)', 'Has(GSE1563, GSM26825)', 'Has(GSE1563, GSM26826)', 'Has(GSE1563, GSM26827)', 'Has(GSE1563, GSM26828)', 'Has(GSE1563, GSM26829)', 'Has(GSE1563, GSM26830)', 'Has(GSE1563, GSM26831)', 'Has(GSE1563, GSM26832)', 'Has(GSE1563, GSM26833)', 'Has(GSE1563, GSM26834)', 'Has(GSE1563, GSM26835)', 'Has(GSE1563, GSM26836)', 'Has(GSE1563, GSM26837)', 'Has(GSE1563, GSM26838)', 'Has(GSE1563, GSM26839)', 'Has(GSE1563, GSM26840)', 'Has(GSE1563, GSM26841)', 'Has(GSE1563, GSM26842)', 'Has(GSE1563, GSM26843)', 'Has(GSE1563, GSM26844)', 'Has(GSE1563, GSM26845)', 'Has(GSE1563, GSM26846)', 'Has(GSE1563, GSM26847)', 'Has(GSE1563, GSM26848)', 'Has(GSE1563, GSM26849)', 'Has(GSE1563, GSM26850)', 'Has(GSE1563, GSM26851)', 'Has(GSE1563, GSM26852)', 'Has(GSE1563, GSM26853)', 'Has(GSE1563, GSM26854)', 'Has(GSE1563, GSM26855)', 'Has(GSE1563, GSM26856)', 'Has(GSE1563, GSM26857)', 'Has(GSE1563, GSM26858)', 'Has(GSE1563, GSM26859)', 'Has(GSE1563, GSM26860)', 'Has(GSE1563, GSM26861)', 'Has(GSE1563, GSM26862)', 'Has(GSE1563, GSM26863)', 'Has(GSE1563, GSM26864)', 'Has(GSE1563, GSM26865)', 'Has(GSE1563, GSM26866)']\n"
     ]
    }
   ],
   "source": [
    "def get_gse_gsm_fol_relations(gse_id):\n",
    "    \"\"\"\n",
    "    Given a GSE ID, return a list of FOL-style 'Has(GSE, GSM)' relations.\n",
    "    \"\"\"\n",
    "    gse = GEOparse.get_GEO(geo=gse_id, destdir=\"./\")\n",
    "    relations = []\n",
    "    for gsm_id in gse.gsms.keys():\n",
    "        relations.append(f\"Has({gse_id}, {gsm_id})\")\n",
    "    return relations\n",
    "\n",
    "print(get_gse_gsm_fol_relations(\"GSE1563\"))"
   ]
  },
  {
   "cell_type": "code",
   "execution_count": null,
   "metadata": {},
   "outputs": [],
   "source": []
  }
 ],
 "metadata": {
  "kernelspec": {
   "display_name": "mvenv",
   "language": "python",
   "name": "python3"
  },
  "language_info": {
   "codemirror_mode": {
    "name": "ipython",
    "version": 3
   },
   "file_extension": ".py",
   "mimetype": "text/x-python",
   "name": "python",
   "nbconvert_exporter": "python",
   "pygments_lexer": "ipython3",
   "version": "3.11.2"
  }
 },
 "nbformat": 4,
 "nbformat_minor": 2
}
